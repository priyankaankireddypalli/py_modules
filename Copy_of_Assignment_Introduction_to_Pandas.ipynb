{
  "nbformat": 4,
  "nbformat_minor": 0,
  "metadata": {
    "colab": {
      "name": "Copy of Assignment - Introduction to Pandas.ipynb",
      "provenance": [],
      "collapsed_sections": []
    },
    "kernelspec": {
      "name": "python3",
      "display_name": "Python 3"
    }
  },
  "cells": [
    {
      "cell_type": "markdown",
      "metadata": {
        "id": "MKXTc2Tas23T"
      },
      "source": [
        ""
      ]
    },
    {
      "cell_type": "code",
      "metadata": {
        "id": "0V3Xtuh9siNn"
      },
      "source": [
        "import numpy as np\n",
        "import pandas as pd"
      ],
      "execution_count": 1,
      "outputs": []
    },
    {
      "cell_type": "markdown",
      "metadata": {
        "id": "Ase3qjp9cJUC"
      },
      "source": [
        "# <u>**Problem 1**</u>\n",
        "\n",
        "### You are given a list of urls. You need to extract the domain name from the urls in another list. Also you need to extract the ending string which the url ends with. \n",
        "\n",
        "### For example, https://www.example.com/market.php -- In this example, domain name is <code>www.example.com</code> and the ending string is <code>php</code>\n",
        "\n"
      ]
    },
    {
      "cell_type": "code",
      "metadata": {
        "id": "xj0SaK7smcPu"
      },
      "source": [
        "# List of urls\n",
        "url_list = ['https://blog.hubspot.com/marketing/parts-url',\n",
        "            'https://www.almabetter.com/enrollments',\n",
        "            'https://pandas.pydata.org/pandas-docs/stable/reference/api/pandas.DataFrame.rename.html',\n",
        "            'https://www.programiz.com/python-programming/list']"
      ],
      "execution_count": 4,
      "outputs": []
    },
    {
      "cell_type": "code",
      "metadata": {
        "id": "N1hhYCZw3V1c",
        "colab": {
          "base_uri": "https://localhost:8080/"
        },
        "outputId": "a28fc372-df00-4f3e-ce9c-75a9ba360fc6"
      },
      "source": [
        "# Extract the domains and the ending string. Hint : use the split method for a string\n",
        "new_url = [i.split(\"/\") for i in url_list]\n",
        "new_url\n",
        "domain_list = [i[2] for i in new_url]\n",
        "print(domain_list)\n",
        "string_list = [i[-1]for i in new_url] \n",
        "print(string_list)\n",
        "ending_string_list =[]\n",
        "for i in string_list:\n",
        "  if \".\" in i:\n",
        "    a = i.rfind(\".\")\n",
        "    ending_string_list.append(i[a+1:])\n",
        "  elif \"-\" in i:\n",
        "    a = i.rfind(\"-\")\n",
        "    ending_string_list.append(i[a+1:])\n",
        "  else:\n",
        "    ending_string_list.append(i)\n",
        "  \n",
        "\n",
        "print(ending_string_list)"
      ],
      "execution_count": 41,
      "outputs": [
        {
          "output_type": "stream",
          "text": [
            "['blog.hubspot.com', 'www.almabetter.com', 'pandas.pydata.org', 'www.programiz.com']\n",
            "['parts-url', 'enrollments', 'pandas.DataFrame.rename.html', 'list']\n",
            "['url', 'enrollments', 'html', 'list']\n"
          ],
          "name": "stdout"
        }
      ]
    },
    {
      "cell_type": "markdown",
      "metadata": {
        "id": "EVgY54DrvLEF"
      },
      "source": [
        "## Next create a pandas dataframe with the above three lists."
      ]
    },
    {
      "cell_type": "code",
      "metadata": {
        "id": "2osXcjvpu6Uz",
        "colab": {
          "base_uri": "https://localhost:8080/"
        },
        "outputId": "c8d272e5-e732-496c-f0d0-cb651352bcbb"
      },
      "source": [
        "# Your code here. Hint : zip the three lists\n",
        "df = pd.DataFrame(list(zip(url_list,domain_list,ending_string_list)),columns = [\"url\",\"domain\",\"ending_str\"])\n",
        "print(df)\n",
        "\n"
      ],
      "execution_count": 43,
      "outputs": [
        {
          "output_type": "stream",
          "text": [
            "                                                 url  ...   ending_str\n",
            "0       https://blog.hubspot.com/marketing/parts-url  ...          url\n",
            "1             https://www.almabetter.com/enrollments  ...  enrollments\n",
            "2  https://pandas.pydata.org/pandas-docs/stable/r...  ...         html\n",
            "3  https://www.programiz.com/python-programming/list  ...         list\n",
            "\n",
            "[4 rows x 3 columns]\n"
          ],
          "name": "stdout"
        }
      ]
    }
  ]
}